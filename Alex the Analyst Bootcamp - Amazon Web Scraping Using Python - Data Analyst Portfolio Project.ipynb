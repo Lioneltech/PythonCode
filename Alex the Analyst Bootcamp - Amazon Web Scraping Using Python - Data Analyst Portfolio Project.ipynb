{
 "cells": [
  {
   "cell_type": "markdown",
   "id": "2f8e450c",
   "metadata": {},
   "source": [
    "## Amazon Web Scraping Using Python - Data Analyst Portfolio Project"
   ]
  },
  {
   "cell_type": "markdown",
   "id": "d614b6a9",
   "metadata": {},
   "source": [
    "### This can be used to create or generate a Dataset for actual analysis in fintech, pharm or ecommerce.\n",
    "## &\n",
    "### Also for a portfolio project"
   ]
  },
  {
   "cell_type": "code",
   "execution_count": 3,
   "id": "8c828698",
   "metadata": {},
   "outputs": [],
   "source": [
    "# import libraries \n",
    "\n",
    "from bs4 import BeautifulSoup\n",
    "import requests\n",
    "import time\n",
    "import datetime\n",
    "\n",
    "import smtplib"
   ]
  },
  {
   "cell_type": "code",
   "execution_count": 11,
   "id": "2fc0f4ec",
   "metadata": {},
   "outputs": [
    {
     "name": "stdout",
     "output_type": "stream",
     "text": [
      "\n",
      "\n",
      "\n",
      "\n",
      "\n",
      "                   I'm Not Anti-Social I'm Selectively Cool Sarcastic Novelty Graphic Funny T Shirt\n",
      "                  \n",
      "\n",
      "\n",
      "\n",
      "\n",
      "\n",
      "\n",
      "                  $19.99\n",
      "                 \n"
     ]
    }
   ],
   "source": [
    "# connect to website \n",
    "\n",
    "URL = 'https://www.amazon.com/dp/B00NMFYB64/ref=sspa_dk_detail_1?pd_rd_i=B00NMFYB64&pd_rd_w=OLB96&content-id=amzn1.sym.eb7c1ac5-7c51-4df5-ba34-ca810f1f119a&pf_rd_p=eb7c1ac5-7c51-4df5-ba34-ca810f1f119a&pf_rd_r=312S0RXQYRZ6PX9H19TT&pd_rd_wg=n5P5E&pd_rd_r=9297b33c-b5f1-45da-b4fc-648b4734d767&s=apparel&sp_csd=d2lkZ2V0TmFtZT1zcF9kZXRhaWw&spLa=ZW5jcnlwdGVkUXVhbGlmaWVyPUFTQjJVOUY3NjBYMksmZW5jcnlwdGVkSWQ9QTA1NTY2ODAxN01QSlFUUUhFQTZWJmVuY3J5cHRlZEFkSWQ9QTAyMzc3MDc0QjJFNElPTU5YSU4md2lkZ2V0TmFtZT1zcF9kZXRhaWwmYWN0aW9uPWNsaWNrUmVkaXJlY3QmZG9Ob3RMb2dDbGljaz10cnVl&th=1&psc=1'\n",
    "\n",
    "headers = {\"User-Agent\": \"Mozilla/5.0 (Windows NT 10.0; Win64; x64) AppleWebKit/537.36 (KHTML, like Gecko) Chrome/78.0.3904.108 Safari/537.36\", \"Accept-Encoding\":\"gzip, deflate\", \"Accept\":\"text/html,application/xhtml+xml,application/xml;q=0.9,*/*;q=0.8\", \"DNT\":\"1\",\"Connection\":\"close\", \"Upgrade-Insecure-Requests\":\"1\"}\n",
    "\n",
    "page = requests.get(URL, headers=headers)\n",
    "\n",
    "soup1 = BeautifulSoup(page.content,  \"html.parser\")\n",
    "\n",
    "# this was to pull all the html content from the website onto python.\n",
    "\n",
    "soup2 = BeautifulSoup(soup1.prettify(), \"html.parser\" )\n",
    "\n",
    "# this was to make the HTML look better.\n",
    "\n",
    "\n",
    "# The below code is to specify what you want from the site you want to scrap.\n",
    "\n",
    "title = soup2.find(id='title_feature_div').get_text()\n",
    "\n",
    "price = soup2.find('span', {'class':'a-offscreen'}).get_text()\n",
    "\n",
    "#price = soup2.find(id='priceblock_ourprice').get_text()\n",
    "\n",
    "# there is a get_text/ .getText, get_all_text etc....\n",
    "\n",
    "# You may encounter this error \"AttributeError: 'NoneType' object has no attribute 'get_text'\". when you do go back to the website and change around the html ids or links etc.\n",
    "\n",
    "# we are going to need to take out the whites spaces\n",
    "\n",
    "\n",
    "\n",
    "print(title)\n",
    "print(price)\n"
   ]
  },
  {
   "cell_type": "code",
   "execution_count": 15,
   "id": "e0c7687e",
   "metadata": {},
   "outputs": [
    {
     "name": "stdout",
     "output_type": "stream",
     "text": [
      "I'm Not Anti-Social I'm Selectively Cool Sarcastic Novelty Graphic Funny T Shirt\n",
      "19.99\n"
     ]
    }
   ],
   "source": [
    "price = price.strip()[1:]\n",
    "title = title.strip()\n",
    "\n",
    "# this was to remove the plenty white spaces using .strip() also you can use .replace()\n",
    "\n",
    "print(title)\n",
    "print(price)\n",
    "\n",
    "# this is a string and we can use that but will change it to list"
   ]
  },
  {
   "cell_type": "code",
   "execution_count": 19,
   "id": "d7e68294",
   "metadata": {},
   "outputs": [
    {
     "name": "stdout",
     "output_type": "stream",
     "text": [
      "2023-04-12\n"
     ]
    }
   ],
   "source": [
    "import datetime\n",
    "\n",
    "today = datetime.date.today()\n",
    "\n",
    "print(today)\n",
    "\n",
    "# this is to put a timestamp on when our data is gotten."
   ]
  },
  {
   "cell_type": "code",
   "execution_count": 76,
   "id": "7c80f274",
   "metadata": {},
   "outputs": [],
   "source": [
    "import csv\n",
    "\n",
    "header = ['Title', 'Price', 'date']  #the header of the CSV\n",
    "\n",
    "data = [title, price, today]         #the data to be input into the headrs\n",
    "# we had to turn the data into a list so we can use it later in the csv.\n",
    "#type(data)\n",
    "\n",
    "#with open ('AmazonWebScaperDataset.csv', 'w', newline='',encoding='UTF8') as f:\n",
    "    #writer = csv.writer(f)\n",
    "    #writer.writerow(header)\n",
    "    #writer.writerow(data)    # inputting the data in the CSV.\n",
    "    \n",
    "    \n",
    "    \n",
    "#creating a CSV by importing the csv library first\n",
    "# 'w' means right\n",
    "#new line = when we insert data it doesnt have space\n",
    "\n",
    "# if you run this CSV code again it keeps rewriting the one already saved.\n",
    "\n",
    "# Because this code delete the previous that you m ay have generated below by overwriting the dataset back to the original data,\n",
    "# one will advise that once you are one writing this part and running it, you should comment it out to avoid loosing your data."
   ]
  },
  {
   "cell_type": "code",
   "execution_count": 77,
   "id": "d4b67809",
   "metadata": {},
   "outputs": [
    {
     "name": "stdout",
     "output_type": "stream",
     "text": [
      "                                               Title  Price        date\n",
      "0  I'm Not Anti-Social I'm Selectively Cool Sarca...  19.99  2023-04-12\n"
     ]
    }
   ],
   "source": [
    "import pandas as pd\n",
    "\n",
    "df = pd.read_csv(r'C:\\Users\\dikel\\AmazonWebScaperDataset.csv')  # the path is the location of the file on my PC.\n",
    "\n",
    "print(df)\n",
    "\n",
    "# we are using pandas to open and check the data in this enviro so we dont have to open the csv file everytime."
   ]
  },
  {
   "cell_type": "code",
   "execution_count": 90,
   "id": "69dd1e50",
   "metadata": {},
   "outputs": [],
   "source": [
    "# Now we are appending (adding) data to the CSV\n",
    "\n",
    "with open ('AmazonWebScaperDataset.csv', 'a+', newline='',encoding='UTF8') as f:\n",
    "    writer = csv.writer(f)\n",
    "    writer.writerow(data)\n",
    "\n",
    "# 'w' changes to a+ and we delete the headers code.\n",
    "# the ignores the already existing code and add data underneath to the data set."
   ]
  },
  {
   "cell_type": "code",
   "execution_count": 91,
   "id": "6ba3807e",
   "metadata": {},
   "outputs": [
    {
     "name": "stdout",
     "output_type": "stream",
     "text": [
      "                                                Title  Price        date\n",
      "0   I'm Not Anti-Social I'm Selectively Cool Sarca...  19.99  2023-04-12\n",
      "1   I'm Not Anti-Social I'm Selectively Cool Sarca...  19.99  2023-04-12\n",
      "2   I'm Not Anti-Social I'm Selectively Cool Sarca...  19.99  2023-04-12\n",
      "3   I'm Not Anti-Social I'm Selectively Cool Sarca...  19.99  2023-04-12\n",
      "4   I'm Not Anti-Social I'm Selectively Cool Sarca...  19.99  2023-04-12\n",
      "5   I'm Not Anti-Social I'm Selectively Cool Sarca...  19.99  2023-04-12\n",
      "6   I'm Not Anti-Social I'm Selectively Cool Sarca...  19.99  2023-04-12\n",
      "7   I'm Not Anti-Social I'm Selectively Cool Sarca...  19.99  2023-04-12\n",
      "8   I'm Not Anti-Social I'm Selectively Cool Sarca...  19.99  2023-04-12\n",
      "9   I'm Not Anti-Social I'm Selectively Cool Sarca...  19.99  2023-04-12\n",
      "10  I'm Not Anti-Social I'm Selectively Cool Sarca...  19.99  2023-04-12\n",
      "11  I'm Not Anti-Social I'm Selectively Cool Sarca...  19.99  2023-04-12\n",
      "12  I'm Not Anti-Social I'm Selectively Cool Sarca...  19.99  2023-04-12\n"
     ]
    }
   ],
   "source": [
    "df = pd.read_csv(r'C:\\Users\\dikel\\AmazonWebScaperDataset.csv')\n",
    "\n",
    "print(df)"
   ]
  },
  {
   "cell_type": "code",
   "execution_count": 92,
   "id": "095d2132",
   "metadata": {},
   "outputs": [],
   "source": [
    "# we are going to put this into functions so we can call it often when we want.\n",
    "\n",
    "def check_price():\n",
    "    URL = 'https://www.amazon.com/dp/B00NMFYB64/ref=sspa_dk_detail_1?pd_rd_i=B00NMFYB64&pd_rd_w=OLB96&content-id=amzn1.sym.eb7c1ac5-7c51-4df5-ba34-ca810f1f119a&pf_rd_p=eb7c1ac5-7c51-4df5-ba34-ca810f1f119a&pf_rd_r=312S0RXQYRZ6PX9H19TT&pd_rd_wg=n5P5E&pd_rd_r=9297b33c-b5f1-45da-b4fc-648b4734d767&s=apparel&sp_csd=d2lkZ2V0TmFtZT1zcF9kZXRhaWw&spLa=ZW5jcnlwdGVkUXVhbGlmaWVyPUFTQjJVOUY3NjBYMksmZW5jcnlwdGVkSWQ9QTA1NTY2ODAxN01QSlFUUUhFQTZWJmVuY3J5cHRlZEFkSWQ9QTAyMzc3MDc0QjJFNElPTU5YSU4md2lkZ2V0TmFtZT1zcF9kZXRhaWwmYWN0aW9uPWNsaWNrUmVkaXJlY3QmZG9Ob3RMb2dDbGljaz10cnVl&th=1&psc=1'\n",
    "\n",
    "    headers = {\"User-Agent\": \"Mozilla/5.0 (Windows NT 10.0; Win64; x64) AppleWebKit/537.36 (KHTML, like Gecko) Chrome/78.0.3904.108 Safari/537.36\", \"Accept-Encoding\":\"gzip, deflate\", \"Accept\":\"text/html,application/xhtml+xml,application/xml;q=0.9,*/*;q=0.8\", \"DNT\":\"1\",\"Connection\":\"close\", \"Upgrade-Insecure-Requests\":\"1\"}\n",
    "\n",
    "    page = requests.get(URL, headers=headers)\n",
    "\n",
    "    soup1 = BeautifulSoup(page.content,  \"html.parser\")\n",
    "\n",
    "    soup2 = BeautifulSoup(soup1.prettify(), \"html.parser\" )\n",
    "\n",
    "    title = soup2.find(id='title_feature_div').get_text()\n",
    "\n",
    "    price = soup2.find('span', {'class':'a-offscreen'}).get_text()\n",
    "    \n",
    "    price = price.strip()[1:]\n",
    "    title = title.strip()\n",
    "    \n",
    "    import datetime\n",
    "    today = datetime.date.today()\n",
    "    \n",
    "    import csv\n",
    "    header = ['Title', 'Price', 'date']\n",
    "    data = [title, price, today]\n",
    "    \n",
    "    with open ('AmazonWebScaperDataset.csv', 'a+', newline='',encoding='UTF8') as f:\n",
    "        writer = csv.writer(f)\n",
    "        writer.writerow(data)\n",
    "# this is an addition to the code. If you want to set a price alert in this situation but any alert and want to be notified when\n",
    "# whatever want happens you can use the below code.\n",
    "    if (price < 14):\n",
    "        send_mail()  # the function created for it is at the very ending of this script.\n"
   ]
  },
  {
   "cell_type": "code",
   "execution_count": 95,
   "id": "17ab1290",
   "metadata": {
    "scrolled": true
   },
   "outputs": [
    {
     "ename": "KeyboardInterrupt",
     "evalue": "",
     "output_type": "error",
     "traceback": [
      "\u001b[1;31m---------------------------------------------------------------------------\u001b[0m",
      "\u001b[1;31mKeyboardInterrupt\u001b[0m                         Traceback (most recent call last)",
      "Cell \u001b[1;32mIn[95], line 6\u001b[0m\n\u001b[0;32m      4\u001b[0m \u001b[38;5;28;01mwhile\u001b[39;00m(\u001b[38;5;28;01mTrue\u001b[39;00m):\n\u001b[0;32m      5\u001b[0m     check_price()\n\u001b[1;32m----> 6\u001b[0m     \u001b[43mtime\u001b[49m\u001b[38;5;241;43m.\u001b[39;49m\u001b[43msleep\u001b[49m\u001b[43m(\u001b[49m\u001b[38;5;241;43m5\u001b[39;49m\u001b[43m)\u001b[49m\n",
      "\u001b[1;31mKeyboardInterrupt\u001b[0m: "
     ]
    }
   ],
   "source": [
    "#  Timer : This automates the time checking.\n",
    "# This means it does wantever you want it to do automatically based on the time put in.\n",
    "\n",
    "while(True):\n",
    "    check_price()\n",
    "    time.sleep(5)  # .sleep(86400) the 84600 is 60 secs in 24hrs (oneday) meaning we can make it run every one day. \n",
    "    \n",
    "# 5 means its gonna run through the code every 5 seconds.\n",
    "# time.sleep(86400) the 84600 is 60 secs in 24hrs (oneday) meaning we can make it run every one day."
   ]
  },
  {
   "cell_type": "code",
   "execution_count": 96,
   "id": "a317f48b",
   "metadata": {},
   "outputs": [
    {
     "name": "stdout",
     "output_type": "stream",
     "text": [
      "                                                Title  Price        date\n",
      "0   I'm Not Anti-Social I'm Selectively Cool Sarca...  19.99  2023-04-12\n",
      "1   I'm Not Anti-Social I'm Selectively Cool Sarca...  19.99  2023-04-12\n",
      "2   I'm Not Anti-Social I'm Selectively Cool Sarca...  19.99  2023-04-12\n",
      "3   I'm Not Anti-Social I'm Selectively Cool Sarca...  19.99  2023-04-12\n",
      "4   I'm Not Anti-Social I'm Selectively Cool Sarca...  19.99  2023-04-12\n",
      "5   I'm Not Anti-Social I'm Selectively Cool Sarca...  19.99  2023-04-12\n",
      "6   I'm Not Anti-Social I'm Selectively Cool Sarca...  19.99  2023-04-12\n",
      "7   I'm Not Anti-Social I'm Selectively Cool Sarca...  19.99  2023-04-12\n",
      "8   I'm Not Anti-Social I'm Selectively Cool Sarca...  19.99  2023-04-12\n",
      "9   I'm Not Anti-Social I'm Selectively Cool Sarca...  19.99  2023-04-12\n",
      "10  I'm Not Anti-Social I'm Selectively Cool Sarca...  19.99  2023-04-12\n",
      "11  I'm Not Anti-Social I'm Selectively Cool Sarca...  19.99  2023-04-12\n",
      "12  I'm Not Anti-Social I'm Selectively Cool Sarca...  19.99  2023-04-12\n",
      "13  I'm Not Anti-Social I'm Selectively Cool Sarca...  19.99  2023-04-12\n",
      "14  I'm Not Anti-Social I'm Selectively Cool Sarca...  19.99  2023-04-12\n",
      "15  I'm Not Anti-Social I'm Selectively Cool Sarca...  19.99  2023-04-12\n"
     ]
    }
   ],
   "source": [
    "import pandas as pd\n",
    "\n",
    "df = pd.read_csv(r'C:\\Users\\dikel\\AmazonWebScaperDataset.csv')\n",
    "\n",
    "print(df)\n",
    "\n",
    "# the update of the dataset from 12 inputs to 15 shows that it ran for 15sec and returned 3 lines of data. SUCCESS"
   ]
  },
  {
   "cell_type": "code",
   "execution_count": null,
   "id": "3405812a",
   "metadata": {},
   "outputs": [],
   "source": []
  },
  {
   "cell_type": "code",
   "execution_count": null,
   "id": "b446e06a",
   "metadata": {},
   "outputs": [],
   "source": []
  },
  {
   "cell_type": "code",
   "execution_count": null,
   "id": "0222f4ef",
   "metadata": {},
   "outputs": [],
   "source": []
  },
  {
   "cell_type": "code",
   "execution_count": null,
   "id": "5ce97cfc",
   "metadata": {},
   "outputs": [],
   "source": [
    "# If uou want to try sending yourself an email (just for fun) when a price hits below a certain level you can try it\n",
    "# out with this script\n",
    "\n",
    "def send_mail():\n",
    "    server = smtplib.SMTP_SSL('smtp.gmail.com',465)\n",
    "    server.ehlo()\n",
    "    #server.starttls()\n",
    "    server.ehlo()\n",
    "    server.login('AlexTheAnalyst95@gmail.com','xxxxxxxxxxxxxx')\n",
    "    \n",
    "    subject = \"The Shirt you want is below $15! Now is your chance to buy!\"\n",
    "    body = \"Alex, This is the moment we have been waiting for. Now is your chance to pick up the shirt of your dreams. Don't mess it up! Link here: https://www.amazon.com/Funny-Data-Systems-Business-Analyst/dp/B07FNW9FGJ/ref=sr_1_3?dchild=1&keywords=data+analyst+tshirt&qid=1626655184&sr=8-3\"\n",
    "   \n",
    "    msg = f\"Subject: {subject}\\n\\n{body}\"\n",
    "    \n",
    "    server.sendmail(\n",
    "        'AlexTheAnalyst95@gmail.com',\n",
    "        msg\n",
    "     \n",
    "    )"
   ]
  }
 ],
 "metadata": {
  "kernelspec": {
   "display_name": "Python 3 (ipykernel)",
   "language": "python",
   "name": "python3"
  },
  "language_info": {
   "codemirror_mode": {
    "name": "ipython",
    "version": 3
   },
   "file_extension": ".py",
   "mimetype": "text/x-python",
   "name": "python",
   "nbconvert_exporter": "python",
   "pygments_lexer": "ipython3",
   "version": "3.10.9"
  }
 },
 "nbformat": 4,
 "nbformat_minor": 5
}
